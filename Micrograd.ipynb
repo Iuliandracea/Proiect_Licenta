{
  "nbformat": 4,
  "nbformat_minor": 0,
  "metadata": {
    "colab": {
      "provenance": []
    },
    "kernelspec": {
      "name": "python3",
      "display_name": "Python 3"
    },
    "language_info": {
      "name": "python"
    }
  },
  "cells": [
    {
      "cell_type": "code",
      "execution_count": null,
      "metadata": {
        "id": "FGWfPDq9BrFT"
      },
      "outputs": [],
      "source": [
        "import math\n",
        "import numpy as np\n",
        "import matplotlib.pyplot as plt\n",
        "%matplotlib inline"
      ]
    },
    {
      "cell_type": "code",
      "source": [
        "def f(x):\n",
        "  return 3 * x**2 - 4 * x + 5"
      ],
      "metadata": {
        "id": "cKItH2f4Dryy"
      },
      "execution_count": null,
      "outputs": []
    },
    {
      "cell_type": "code",
      "source": [
        "f(3.0)"
      ],
      "metadata": {
        "colab": {
          "base_uri": "https://localhost:8080/"
        },
        "id": "0YE8-K_eD30h",
        "outputId": "66848870-7364-433c-e5ee-5b76c75bfa90"
      },
      "execution_count": null,
      "outputs": [
        {
          "output_type": "execute_result",
          "data": {
            "text/plain": [
              "20.0"
            ]
          },
          "metadata": {},
          "execution_count": 4
        }
      ]
    },
    {
      "cell_type": "code",
      "source": [
        "xs = np.arange(-5, 5, 0.25)\n",
        "ys = f(xs)\n",
        "plt.plot(xs, ys)"
      ],
      "metadata": {
        "colab": {
          "base_uri": "https://localhost:8080/",
          "height": 283
        },
        "id": "65V7p1CnD544",
        "outputId": "82e417d1-0a6c-44ee-a9bb-1d366cd26a50"
      },
      "execution_count": null,
      "outputs": [
        {
          "output_type": "execute_result",
          "data": {
            "text/plain": [
              "[<matplotlib.lines.Line2D at 0x7fa2d41e6e50>]"
            ]
          },
          "metadata": {},
          "execution_count": 5
        },
        {
          "output_type": "display_data",
          "data": {
            "text/plain": [
              "<Figure size 432x288 with 1 Axes>"
            ],
            "image/png": "[encoded data removed]"
          },
          "metadata": {
            "needs_background": "light"
          }
        }
      ]
    },
    {
      "cell_type": "code",
      "source": [
        "h = 0.001\n",
        "x = 3.0\n",
        "f(x)\n",
        "(f(x + h) - f(x)) / h"
      ],
      "metadata": {
        "colab": {
          "base_uri": "https://localhost:8080/"
        },
        "id": "UO2QVVXhEo65",
        "outputId": "2b28cab7-232a-444d-faa3-c0d2f474459d"
      },
      "execution_count": null,
      "outputs": [
        {
          "output_type": "execute_result",
          "data": {
            "text/plain": [
              "14.00300000000243"
            ]
          },
          "metadata": {},
          "execution_count": 8
        }
      ]
    },
    {
      "cell_type": "code",
      "source": [
        "class Value:\n",
        "\n",
        "  def __init__(self, data, _children=(), _op=''):\n",
        "    self.data = data\n",
        "    self.grad = 0\n",
        "    self._backward = lambda: None\n",
        "    self.label = ''\n",
        "    self._prev = set(_children)\n",
        "    self._op = _op\n",
        "\n",
        "  def __repr__(self):\n",
        "    return f\"Value(data={self.data})\"\n",
        "\n",
        "  def __add__(self, other):\n",
        "    other = other if isinstance(other, Value) else Value(other)\n",
        "    out = Value(self.data + other.data, (self, other), '+')\n",
        "\n",
        "    def _backward():\n",
        "      self.grad += 1.0 * out.grad\n",
        "      other.grad += 1.0 * out.grad\n",
        "    out._backward = _backward\n",
        "    return out\n",
        "\n",
        "  def __radd__(self, other):\n",
        "    return self + other\n",
        "\n",
        "  def __mul__(self, other):\n",
        "    other = other if isinstance(other, Value) else Value(other)\n",
        "    out = Value(self.data * other.data, (self, other), '*')\n",
        "\n",
        "    def _backward():\n",
        "      self.grad += other.data * out.grad\n",
        "      other.grad += self.data * out.grad\n",
        "    out._backward = _backward\n",
        "    return out\n",
        "\n",
        "  def __pow__(self, v):\n",
        "    assert isinstance(v, (int, float))\n",
        "    out = Value(self.data ** v, (self,), f\"**{v}\")\n",
        "\n",
        "    def _backward():\n",
        "      self.grad += v * self.data ** (v - 1) * out.grad\n",
        "    out._backward = _backward\n",
        "    return out\n",
        "\n",
        "  def __rmul__(self, other):\n",
        "    return self * other\n",
        "\n",
        "  def __truediv__(self, other):\n",
        "    return self * (other**-1)\n",
        "\n",
        "  def __neg__(self):\n",
        "    return self * -1\n",
        "\n",
        "  def __sub__(self, other):\n",
        "    return self + (-other)\n",
        "\n",
        "  def __rsub__(self, other):\n",
        "    return self + (-other)\n",
        "\n",
        "  def tanh(self):\n",
        "    x = self.data\n",
        "    t = (math.exp(2 * x) - 1) / (math.exp(2 * x) + 1)\n",
        "    out = Value(t, (self, ), 'tanh')\n",
        "\n",
        "    def _backward():\n",
        "      self.grad += (1 - out.data**2) * out.grad\n",
        "    out._backward = _backward\n",
        "    return out\n",
        "\n",
        "  def relu(self):\n",
        "    out = Value(0 if self.data < 0 else self.data, (self, ), 'ReLU')\n",
        "\n",
        "    def _backward():\n",
        "        self.grad += (out.data > 0) * out.grad\n",
        "    out._backward = _backward\n",
        "    return out\n",
        "\n",
        "  def exp(self):\n",
        "    x = self.data\n",
        "    out = Value(math.exp(x), (self, ), 'exp')\n",
        "\n",
        "    def _backward():\n",
        "      self.grad += out.data * out.grad\n",
        "    out._backward = _backward\n",
        "    return out\n",
        "\n",
        "  def backward(self):\n",
        "    topo = []\n",
        "    visited = set()\n",
        "\n",
        "    def topological_sort(x):\n",
        "      if x not in visited:\n",
        "        visited.add(x)\n",
        "        for c in x._prev:\n",
        "          topological_sort(c)\n",
        "        topo.append(x)\n",
        "    topological_sort(self)\n",
        "\n",
        "    self.grad = 1.0\n",
        "    for node in reversed(topo):\n",
        "      node._backward()\n",
        "\n",
        "a = Value(2.0)\n",
        "b = Value(-3.0)\n",
        "c = Value(10)\n",
        "d = a * b + c\n",
        "d"
      ],
      "metadata": {
        "colab": {
          "base_uri": "https://localhost:8080/"
        },
        "id": "kUoY_8GbG2TB",
        "outputId": "a770e366-97c1-4b90-fe40-168fa52c67e7"
      },
      "execution_count": 139,
      "outputs": [
        {
          "output_type": "execute_result",
          "data": {
            "text/plain": [
              "Value(data=4.0)"
            ]
          },
          "metadata": {},
          "execution_count": 139
        }
      ]
    },
    {
      "cell_type": "code",
      "source": [
        "d._prev"
      ],
      "metadata": {
        "colab": {
          "base_uri": "https://localhost:8080/"
        },
        "id": "PiMqCsKeInOd",
        "outputId": "89f3f2e9-6f70-497d-e283-9ffc1acb9a64"
      },
      "execution_count": 140,
      "outputs": [
        {
          "output_type": "execute_result",
          "data": {
            "text/plain": [
              "{Value(data=-6.0), Value(data=10)}"
            ]
          },
          "metadata": {},
          "execution_count": 140
        }
      ]
    },
    {
      "cell_type": "code",
      "source": [
        "d._op"
      ],
      "metadata": {
        "colab": {
          "base_uri": "https://localhost:8080/",
          "height": 36
        },
        "id": "L1OCS0QPI7lz",
        "outputId": "e3d13a45-94f7-4865-cc08-c8f5e22a7535"
      },
      "execution_count": 141,
      "outputs": [
        {
          "output_type": "execute_result",
          "data": {
            "text/plain": [
              "'+'"
            ],
            "application/vnd.google.colaboratory.intrinsic+json": {
              "type": "string"
            }
          },
          "metadata": {},
          "execution_count": 141
        }
      ]
    },
    {
      "cell_type": "code",
      "source": [
        "from graphviz import Digraph\n",
        "\n",
        "def trace(root):\n",
        "  # builds a set of all nodes and edges in a graph\n",
        "  nodes, edges = set(), set()\n",
        "  def build(v):\n",
        "    if v not in nodes:\n",
        "      nodes.add(v)\n",
        "      for child in v._prev:\n",
        "        edges.add((child, v))\n",
        "        build(child)\n",
        "  build(root)\n",
        "  return nodes, edges\n",
        "\n",
        "def draw_dot(root):\n",
        "  dot = Digraph(format='svg', graph_attr={'rankdir': 'LR'}) # LR = left to right\n",
        "  \n",
        "  nodes, edges = trace(root)\n",
        "  for n in nodes:\n",
        "    uid = str(id(n))\n",
        "    # for any value in the graph, create a rectangular ('record') node for it\n",
        "    dot.node(name = uid, label = \"{ %s | data %.4f | grad %.4f }\" % (n.label, n.data, n.grad), shape='record')\n",
        "    if n._op:\n",
        "      # if this value is a result of some operation, create an op node for it\n",
        "      dot.node(name = uid + n._op, label = n._op)\n",
        "      # and connect this node to it\n",
        "      dot.edge(uid + n._op, uid)\n",
        "\n",
        "  for n1, n2 in edges:\n",
        "    # connect n1 to the op node of n2\n",
        "    dot.edge(str(id(n1)), str(id(n2)) + n2._op)\n",
        "\n",
        "  return dot"
      ],
      "metadata": {
        "id": "IKCvt_4yJVmi"
      },
      "execution_count": 142,
      "outputs": []
    },
    {
      "cell_type": "code",
      "source": [
        "import random\n",
        "\n",
        "class Neuron:\n",
        "  def __init__(self, nin):\n",
        "    self.w = [Value(random.uniform(-1, 1)) for _ in range(nin)]\n",
        "    self.b = Value(random.uniform(-1, 1))\n",
        "\n",
        "  def __call__(self, x):\n",
        "    act = sum((wi * xi for wi, xi in zip(self.w, x)), self.b)\n",
        "    out = act.tanh()\n",
        "    return out\n",
        "\n",
        "  def parameters(self):\n",
        "    return self.w + [self.b]\n",
        "\n",
        "  def zero_grad(self):\n",
        "    for param in self.parameters():\n",
        "      param.grad = 0.0\n",
        "\n",
        "\n",
        "class Layer:\n",
        "  def __init__(self, nin, nout):\n",
        "    self.neurons = [Neuron(nin) for _ in range(nout)]\n",
        "\n",
        "  def __call__(self, x):\n",
        "    outs = [n(x) for n in self.neurons]\n",
        "    return outs[0] if len(outs) == 1 else outs\n",
        "\n",
        "  def parameters(self):\n",
        "    params = []\n",
        "    for n in self.neurons:\n",
        "      params.extend(n.parameters())\n",
        "    return params\n",
        "\n",
        "  def zero_grad(self):\n",
        "    for param in self.parameters():\n",
        "      param.grad = 0.0\n",
        "\n",
        "\n",
        "class MLP:\n",
        "  def __init__(self, nin, nouts):\n",
        "    sz = [nin] + nouts\n",
        "    self.layers = [Layer(sz[i], sz[i + 1]) for i in range(len(nouts))]\n",
        "\n",
        "  def __call__(self, x):\n",
        "    for layer in self.layers:\n",
        "      x = layer(x)\n",
        "    return x\n",
        "\n",
        "  def parameters(self):\n",
        "    return [p for layer in self.layers for p in layer.parameters()]\n",
        "\n",
        "  def zero_grad(self):\n",
        "    for param in self.parameters():\n",
        "      param.grad = 0.0"
      ],
      "metadata": {
        "id": "D8O4bXeMjU-P"
      },
      "execution_count": 143,
      "outputs": []
    },
    {
      "cell_type": "code",
      "source": [
        "x = [2.0, 3.0]\n",
        "n = Neuron(2)\n",
        "n(x)"
      ],
      "metadata": {
        "colab": {
          "base_uri": "https://localhost:8080/"
        },
        "id": "Do96u1NokfKZ",
        "outputId": "a5e991a0-ece5-4971-fab7-71ff31b4e383"
      },
      "execution_count": 144,
      "outputs": [
        {
          "output_type": "execute_result",
          "data": {
            "text/plain": [
              "Value(data=-0.9979010948758221)"
            ]
          },
          "metadata": {},
          "execution_count": 144
        }
      ]
    },
    {
      "cell_type": "code",
      "source": [
        "nL = Layer(2, 3)\n",
        "nL(x)"
      ],
      "metadata": {
        "colab": {
          "base_uri": "https://localhost:8080/"
        },
        "id": "G0vki5QMlYXE",
        "outputId": "237acf52-39dd-4556-821b-23014b5641ff"
      },
      "execution_count": 145,
      "outputs": [
        {
          "output_type": "execute_result",
          "data": {
            "text/plain": [
              "[Value(data=-0.1641906618908629),\n",
              " Value(data=-0.998263637054169),\n",
              " Value(data=-0.9994123949544672)]"
            ]
          },
          "metadata": {},
          "execution_count": 145
        }
      ]
    },
    {
      "cell_type": "code",
      "source": [
        "x = [2.0, 3.0, -1.0]\n",
        "mlp = MLP(3, [4, 4, 1])\n",
        "mlp(x)"
      ],
      "metadata": {
        "colab": {
          "base_uri": "https://localhost:8080/"
        },
        "id": "jSV-EtjImKIX",
        "outputId": "5dbc565a-afea-49f1-8bcc-aec3f6175331"
      },
      "execution_count": 205,
      "outputs": [
        {
          "output_type": "execute_result",
          "data": {
            "text/plain": [
              "Value(data=-0.46691432285233625)"
            ]
          },
          "metadata": {},
          "execution_count": 205
        }
      ]
    },
    {
      "cell_type": "code",
      "source": [
        "xs = [\n",
        "    [2.0, 3.0, -1.0],\n",
        "    [3.0, -1.0, 0.5],\n",
        "    [0.5, 1.0, 1.0],\n",
        "    [1.0, 1.0, -1.0]\n",
        "]\n",
        "ys = [1.0, -1.0, -1.0, 1.0]"
      ],
      "metadata": {
        "id": "5Kwzvzz8nVgM"
      },
      "execution_count": 206,
      "outputs": []
    },
    {
      "cell_type": "code",
      "source": [
        "def loss_func(ground_truths, predictions):\n",
        "  return sum((prediction - ground_truth)**2 for ground_truth, prediction in zip(ground_truths, predictions))"
      ],
      "metadata": {
        "id": "PIdr6kQs_ZFi"
      },
      "execution_count": 207,
      "outputs": []
    },
    {
      "cell_type": "code",
      "source": [
        "def train_model(mlp, xs, ys, loss_func, alpha=0.001, times=20):\n",
        "  for _ in range(times):\n",
        "    ypred = [mlp(x) for x in xs]\n",
        "    loss = loss_func(ys, ypred)\n",
        "\n",
        "    mlp.zero_grad()\n",
        "    loss.backward()\n",
        "\n",
        "    for param in mlp.parameters():\n",
        "      param.data -= alpha * param.grad\n",
        "    \n",
        "    print(f\"Step {_}; Loss {loss}\")"
      ],
      "metadata": {
        "id": "R7AxpAA2AfTE"
      },
      "execution_count": 208,
      "outputs": []
    },
    {
      "cell_type": "code",
      "source": [
        "train_model(mlp, xs, ys, loss_func, 0.05, 100)"
      ],
      "metadata": {
        "colab": {
          "base_uri": "https://localhost:8080/"
        },
        "id": "Abw51LU4BrlN",
        "outputId": "c382e283-6e2a-42ab-b53a-9129af047601"
      },
      "execution_count": 209,
      "outputs": [
        {
          "output_type": "stream",
          "name": "stdout",
          "text": [
            "Step 0; Loss Value(data=5.520007447761283)\n",
            "Step 1; Loss Value(data=3.705114094867439)\n",
            "Step 2; Loss Value(data=3.318643088400393)\n",
            "Step 3; Loss Value(data=3.0104829271841798)\n",
            "Step 4; Loss Value(data=2.689070512619149)\n",
            "Step 5; Loss Value(data=2.352358286520113)\n",
            "Step 6; Loss Value(data=2.0160919153756787)\n",
            "Step 7; Loss Value(data=1.6571494043794681)\n",
            "Step 8; Loss Value(data=1.2681559617666691)\n",
            "Step 9; Loss Value(data=0.9004133256277371)\n",
            "Step 10; Loss Value(data=0.6214493552502796)\n",
            "Step 11; Loss Value(data=0.4405113837719322)\n",
            "Step 12; Loss Value(data=0.3269457239627043)\n",
            "Step 13; Loss Value(data=0.2533381038271446)\n",
            "Step 14; Loss Value(data=0.20335299657711492)\n",
            "Step 15; Loss Value(data=0.16788371276913927)\n",
            "Step 16; Loss Value(data=0.1417483290578212)\n",
            "Step 17; Loss Value(data=0.12187377380282396)\n",
            "Step 18; Loss Value(data=0.10635702187011155)\n",
            "Step 19; Loss Value(data=0.09397159127466558)\n",
            "Step 20; Loss Value(data=0.08389850851734276)\n",
            "Step 21; Loss Value(data=0.07557365703625765)\n",
            "Step 22; Loss Value(data=0.06859776596899397)\n",
            "Step 23; Loss Value(data=0.0626814261766005)\n",
            "Step 24; Loss Value(data=0.05761041420332362)\n",
            "Step 25; Loss Value(data=0.053223188440746194)\n",
            "Step 26; Loss Value(data=0.049395904958517464)\n",
            "Step 27; Loss Value(data=0.04603220760129516)\n",
            "Step 28; Loss Value(data=0.04305612521780748)\n",
            "Step 29; Loss Value(data=0.04040703686837899)\n",
            "Step 30; Loss Value(data=0.03803604168739914)\n",
            "Step 31; Loss Value(data=0.035903300686481496)\n",
            "Step 32; Loss Value(data=0.03397606256095615)\n",
            "Step 33; Loss Value(data=0.03222717838262723)\n",
            "Step 34; Loss Value(data=0.030633970731718727)\n",
            "Step 35; Loss Value(data=0.029177363188626102)\n",
            "Step 36; Loss Value(data=0.027841203410484724)\n",
            "Step 37; Loss Value(data=0.02661173176922344)\n",
            "Step 38; Loss Value(data=0.025477160588846318)\n",
            "Step 39; Loss Value(data=0.024427338237343436)\n",
            "Step 40; Loss Value(data=0.023453478913965462)\n",
            "Step 41; Loss Value(data=0.022547943731408115)\n",
            "Step 42; Loss Value(data=0.021704062168337705)\n",
            "Step 43; Loss Value(data=0.02091598553210261)\n",
            "Step 44; Loss Value(data=0.0201785659813429)\n",
            "Step 45; Loss Value(data=0.01948725609326543)\n",
            "Step 46; Loss Value(data=0.018838025047688372)\n",
            "Step 47; Loss Value(data=0.018227288330357888)\n",
            "Step 48; Loss Value(data=0.01765184849696244)\n",
            "Step 49; Loss Value(data=0.017108845034354236)\n",
            "Step 50; Loss Value(data=0.016595711741695045)\n",
            "Step 51; Loss Value(data=0.016110140357435177)\n",
            "Step 52; Loss Value(data=0.015650049397505788)\n",
            "Step 53; Loss Value(data=0.015213557360331366)\n",
            "Step 54; Loss Value(data=0.014798959606214069)\n",
            "Step 55; Loss Value(data=0.014404708340643474)\n",
            "Step 56; Loss Value(data=0.014029395229533583)\n",
            "Step 57; Loss Value(data=0.01367173625421468)\n",
            "Step 58; Loss Value(data=0.013330558479026826)\n",
            "Step 59; Loss Value(data=0.013004788457554779)\n",
            "Step 60; Loss Value(data=0.012693442047243184)\n",
            "Step 61; Loss Value(data=0.0123956154381787)\n",
            "Step 62; Loss Value(data=0.012110477231671187)\n",
            "Step 63; Loss Value(data=0.011837261429075324)\n",
            "Step 64; Loss Value(data=0.011575261211984681)\n",
            "Step 65; Loss Value(data=0.011323823412248808)\n",
            "Step 66; Loss Value(data=0.011082343584806434)\n",
            "Step 67; Loss Value(data=0.01085026160858018)\n",
            "Step 68; Loss Value(data=0.01062705775102929)\n",
            "Step 69; Loss Value(data=0.010412249140732698)\n",
            "Step 70; Loss Value(data=0.010205386599830751)\n",
            "Step 71; Loss Value(data=0.010006051794511615)\n",
            "Step 72; Loss Value(data=0.009813854667159517)\n",
            "Step 73; Loss Value(data=0.009628431118437251)\n",
            "Step 74; Loss Value(data=0.009449440911572023)\n",
            "Step 75; Loss Value(data=0.00927656577455746)\n",
            "Step 76; Loss Value(data=0.009109507678954708)\n",
            "Step 77; Loss Value(data=0.008947987276546334)\n",
            "Step 78; Loss Value(data=0.00879174247732386)\n",
            "Step 79; Loss Value(data=0.008640527154227048)\n",
            "Step 80; Loss Value(data=0.008494109961737257)\n",
            "Step 81; Loss Value(data=0.00835227325689792)\n",
            "Step 82; Loss Value(data=0.008214812112620894)\n",
            "Step 83; Loss Value(data=0.008081533414261575)\n",
            "Step 84; Loss Value(data=0.00795225503143512)\n",
            "Step 85; Loss Value(data=0.007826805057912424)\n",
            "Step 86; Loss Value(data=0.007705021113199185)\n",
            "Step 87; Loss Value(data=0.007586749700076636)\n",
            "Step 88; Loss Value(data=0.00747184561297649)\n",
            "Step 89; Loss Value(data=0.007360171392590287)\n",
            "Step 90; Loss Value(data=0.007251596822580988)\n",
            "Step 91; Loss Value(data=0.007145998464678307)\n",
            "Step 92; Loss Value(data=0.007043259228808757)\n",
            "Step 93; Loss Value(data=0.006943267975238782)\n",
            "Step 94; Loss Value(data=0.006845919146002504)\n",
            "Step 95; Loss Value(data=0.0067511124231466844)\n",
            "Step 96; Loss Value(data=0.006658752411558783)\n",
            "Step 97; Loss Value(data=0.006568748344353505)\n",
            "Step 98; Loss Value(data=0.006481013808980165)\n",
            "Step 99; Loss Value(data=0.006395466492381881)\n"
          ]
        }
      ]
    },
    {
      "cell_type": "code",
      "source": [
        "print(ys)\n",
        "print([mlp(x) for x in xs])"
      ],
      "metadata": {
        "colab": {
          "base_uri": "https://localhost:8080/"
        },
        "id": "BooekwxFOouE",
        "outputId": "53da89b0-dbf4-4288-ecd9-ede657c4dc9f"
      },
      "execution_count": 212,
      "outputs": [
        {
          "output_type": "stream",
          "name": "stdout",
          "text": [
            "[1.0, -1.0, -1.0, 1.0]\n",
            "[Value(data=0.9677308366414352), Value(data=-0.9829031953565026), Value(data=-0.9513725722387202), Value(data=0.9488746483617969)]\n"
          ]
        }
      ]
    },
    {
      "cell_type": "markdown",
      "source": [
        "#Test"
      ],
      "metadata": {
        "id": "C8tW3_O4DaPU"
      }
    },
    {
      "cell_type": "code",
      "source": [
        "# make a dataset\n",
        "from sklearn.datasets import make_moons, make_blobs\n",
        "X, y = make_moons(n_samples=100, noise=0.1)\n",
        "\n",
        "y = y*2 - 1 # make y be -1 or 1\n",
        "# visualize in 2D\n",
        "plt.figure(figsize=(5,5))\n",
        "plt.scatter(X[:,0], X[:,1], c=y, s=20, cmap='jet')"
      ],
      "metadata": {
        "colab": {
          "base_uri": "https://localhost:8080/",
          "height": 338
        },
        "id": "fkWms8N-DZwb",
        "outputId": "426d4b07-4846-45cb-dd82-7497224ca54b"
      },
      "execution_count": 233,
      "outputs": [
        {
          "output_type": "execute_result",
          "data": {
            "text/plain": [
              "<matplotlib.collections.PathCollection at 0x7fa2962cf940>"
            ]
          },
          "metadata": {},
          "execution_count": 233
        },
        {
          "output_type": "display_data",
          "data": {
            "text/plain": [
              "<Figure size 360x360 with 1 Axes>"
            ],
            "image/png": "[encoded data removed]"
          },
          "metadata": {
            "needs_background": "light"
          }
        }
      ]
    },
    {
      "cell_type": "code",
      "source": [
        "model = MLP(2, [16, 16, 1]) # 2-layer neural network\n",
        "print(model)\n",
        "print(\"number of parameters\", len(model.parameters()))"
      ],
      "metadata": {
        "colab": {
          "base_uri": "https://localhost:8080/"
        },
        "id": "HF02sF-BDcjT",
        "outputId": "2583f932-6fa6-4ef5-ee45-627d1c0f28e6"
      },
      "execution_count": 238,
      "outputs": [
        {
          "output_type": "stream",
          "name": "stdout",
          "text": [
            "<__main__.MLP object at 0x7fa2a260a910>\n",
            "number of parameters 337\n"
          ]
        }
      ]
    },
    {
      "cell_type": "code",
      "source": [
        "# visualize decision boundary before training\n",
        "h = 0.25\n",
        "x_min, x_max = X[:, 0].min() - 1, X[:, 0].max() + 1\n",
        "y_min, y_max = X[:, 1].min() - 1, X[:, 1].max() + 1\n",
        "xx, yy = np.meshgrid(np.arange(x_min, x_max, h),\n",
        "                     np.arange(y_min, y_max, h))\n",
        "Xmesh = np.c_[xx.ravel(), yy.ravel()]\n",
        "inputs = [list(map(Value, xrow)) for xrow in Xmesh]\n",
        "scores = list(map(model, inputs))\n",
        "Z = np.array([s.data > 0 for s in scores])\n",
        "Z = Z.reshape(xx.shape)\n",
        "\n",
        "fig = plt.figure()\n",
        "plt.contourf(xx, yy, Z, cmap=plt.cm.Spectral, alpha=0.8)\n",
        "plt.scatter(X[:, 0], X[:, 1], c=y, s=40, cmap=plt.cm.Spectral)\n",
        "plt.xlim(xx.min(), xx.max())\n",
        "plt.ylim(yy.min(), yy.max())"
      ],
      "metadata": {
        "colab": {
          "base_uri": "https://localhost:8080/",
          "height": 283
        },
        "id": "xpfXmw-wERe8",
        "outputId": "20d31073-4fc4-45d2-f50b-938a94360b17"
      },
      "execution_count": 239,
      "outputs": [
        {
          "output_type": "execute_result",
          "data": {
            "text/plain": [
              "(-1.6349545678983317, 1.8650454321016683)"
            ]
          },
          "metadata": {},
          "execution_count": 239
        },
        {
          "output_type": "display_data",
          "data": {
            "text/plain": [
              "<Figure size 432x288 with 1 Axes>"
            ],
            "image/png": "[encoded data removed]"
          },
          "metadata": {
            "needs_background": "light"
          }
        }
      ]
    },
    {
      "cell_type": "code",
      "source": [
        "train_model(model, X, y, loss_func, 0.001, 50)"
      ],
      "metadata": {
        "colab": {
          "base_uri": "https://localhost:8080/"
        },
        "id": "siv3TRSVEepR",
        "outputId": "bf67f718-c084-4ec0-d996-e64ff70d6ac9"
      },
      "execution_count": 240,
      "outputs": [
        {
          "output_type": "stream",
          "name": "stdout",
          "text": [
            "Step 0; Loss Value(data=130.41358858459103)\n",
            "Step 1; Loss Value(data=89.9779291421556)\n",
            "Step 2; Loss Value(data=71.78811057619937)\n",
            "Step 3; Loss Value(data=62.07426940690313)\n",
            "Step 4; Loss Value(data=56.331806313242474)\n",
            "Step 5; Loss Value(data=50.889921520994015)\n",
            "Step 6; Loss Value(data=45.34036423944538)\n",
            "Step 7; Loss Value(data=40.71052689999515)\n",
            "Step 8; Loss Value(data=37.517217744857234)\n",
            "Step 9; Loss Value(data=35.263450006711004)\n",
            "Step 10; Loss Value(data=33.65246757398384)\n",
            "Step 11; Loss Value(data=32.474500389794265)\n",
            "Step 12; Loss Value(data=31.542714541531467)\n",
            "Step 13; Loss Value(data=30.732859207492567)\n",
            "Step 14; Loss Value(data=29.980902878463443)\n",
            "Step 15; Loss Value(data=29.25926208166766)\n",
            "Step 16; Loss Value(data=28.55710349953165)\n",
            "Step 17; Loss Value(data=27.87042711674129)\n",
            "Step 18; Loss Value(data=27.198077956780452)\n",
            "Step 19; Loss Value(data=26.540181819779473)\n",
            "Step 20; Loss Value(data=25.89742769922178)\n",
            "Step 21; Loss Value(data=25.27066444607952)\n",
            "Step 22; Loss Value(data=24.66065716701006)\n",
            "Step 23; Loss Value(data=24.067955056974448)\n",
            "Step 24; Loss Value(data=23.492843050785456)\n",
            "Step 25; Loss Value(data=22.935350796773406)\n",
            "Step 26; Loss Value(data=22.395293687373094)\n",
            "Step 27; Loss Value(data=21.872325526089075)\n",
            "Step 28; Loss Value(data=21.365989294910896)\n",
            "Step 29; Loss Value(data=20.875759128962983)\n",
            "Step 30; Loss Value(data=20.401071582150724)\n",
            "Step 31; Loss Value(data=19.941347210183796)\n",
            "Step 32; Loss Value(data=19.496004730443687)\n",
            "Step 33; Loss Value(data=19.064470128737277)\n",
            "Step 34; Loss Value(data=18.646182628809115)\n",
            "Step 35; Loss Value(data=18.240598822495965)\n",
            "Step 36; Loss Value(data=17.84719570489143)\n",
            "Step 37; Loss Value(data=17.46547296268919)\n",
            "Step 38; Loss Value(data=17.09495463255195)\n",
            "Step 39; Loss Value(data=16.735190145472686)\n",
            "Step 40; Loss Value(data=16.385754756092844)\n",
            "Step 41; Loss Value(data=16.046249380968813)\n",
            "Step 42; Loss Value(data=15.716299906695157)\n",
            "Step 43; Loss Value(data=15.395556059924655)\n",
            "Step 44; Loss Value(data=15.083689949080398)\n",
            "Step 45; Loss Value(data=14.780394391060698)\n",
            "Step 46; Loss Value(data=14.48538112822628)\n",
            "Step 47; Loss Value(data=14.198379025469999)\n",
            "Step 48; Loss Value(data=13.919132318117702)\n",
            "Step 49; Loss Value(data=13.647398961891362)\n"
          ]
        }
      ]
    },
    {
      "cell_type": "code",
      "source": [
        "# visualize decision boundary before training\n",
        "h = 0.25\n",
        "x_min, x_max = X[:, 0].min() - 1, X[:, 0].max() + 1\n",
        "y_min, y_max = X[:, 1].min() - 1, X[:, 1].max() + 1\n",
        "xx, yy = np.meshgrid(np.arange(x_min, x_max, h),\n",
        "                     np.arange(y_min, y_max, h))\n",
        "Xmesh = np.c_[xx.ravel(), yy.ravel()]\n",
        "inputs = [list(map(Value, xrow)) for xrow in Xmesh]\n",
        "scores = list(map(model, inputs))\n",
        "Z = np.array([s.data > 0 for s in scores])\n",
        "Z = Z.reshape(xx.shape)\n",
        "\n",
        "fig = plt.figure()\n",
        "plt.contourf(xx, yy, Z, cmap=plt.cm.Spectral, alpha=0.8)\n",
        "plt.scatter(X[:, 0], X[:, 1], c=y, s=40, cmap=plt.cm.Spectral)\n",
        "plt.xlim(xx.min(), xx.max())\n",
        "plt.ylim(yy.min(), yy.max())"
      ],
      "metadata": {
        "colab": {
          "base_uri": "https://localhost:8080/",
          "height": 283
        },
        "id": "S1anoxXALS4w",
        "outputId": "22c6c72e-f793-4958-c594-c927b613f113"
      },
      "execution_count": 241,
      "outputs": [
        {
          "output_type": "execute_result",
          "data": {
            "text/plain": [
              "(-1.6349545678983317, 1.8650454321016683)"
            ]
          },
          "metadata": {},
          "execution_count": 241
        },
        {
          "output_type": "display_data",
          "data": {
            "text/plain": [
              "<Figure size 432x288 with 1 Axes>"
            ],
            "image/png": "[encoded data removed]"
          },
          "metadata": {
            "needs_background": "light"
          }
        }
      ]
    }
  ]
}